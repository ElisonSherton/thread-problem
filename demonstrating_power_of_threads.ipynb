{
 "cells": [
  {
   "cell_type": "code",
   "execution_count": null,
   "id": "879b670b-3b4e-49d2-b73e-5cbfe45bfa92",
   "metadata": {},
   "outputs": [],
   "source": [
    "from threading import Thread\n",
    "import time\n",
    "\n",
    "# Create function to predict sales price\n",
    "def predict_sales_price(processing_time):\n",
    "    time.sleep(processing_time)\n",
    "    with open(\"sales_output.txt\", \"w\") as f:\n",
    "        f.writelines(f\"Sales Price: 20k\"); \n",
    "        f.close()\n",
    "\n",
    "# Create function to compute demand report\n",
    "def create_past_year_demand_report(processing_time):\n",
    "    time.sleep(processing_time)\n",
    "    with open(\"demand_report.txt\", \"w\") as f:\n",
    "        f.writelines(f\"Demand: 200 requests\"); \n",
    "        f.close()"
   ]
  },
  {
   "cell_type": "code",
   "execution_count": null,
   "id": "263f83b2-88c4-4383-a3b3-5e1968f1aa69",
   "metadata": {},
   "outputs": [],
   "source": [
    "# Create threads with above defined functions\n",
    "t_sales = Thread(target = predict_sales_price, args = (8, ))\n",
    "t_report = Thread(target = create_past_year_demand_report, args = (12, ))"
   ]
  },
  {
   "cell_type": "code",
   "execution_count": null,
   "id": "55045102-731a-4068-a5da-eb4f7f276d0e",
   "metadata": {},
   "outputs": [],
   "source": [
    "# Start the threads\n",
    "t_sales.start(); t_report.start()"
   ]
  },
  {
   "cell_type": "code",
   "execution_count": null,
   "id": "112f4085-8449-4176-8476-6976715c3277",
   "metadata": {},
   "outputs": [
    {
     "data": {
      "text/plain": [
       "True"
      ]
     },
     "execution_count": null,
     "metadata": {},
     "output_type": "execute_result"
    }
   ],
   "source": [
    "t_sales.is_alive()"
   ]
  },
  {
   "cell_type": "code",
   "execution_count": null,
   "id": "f051788f-245a-479e-ab4f-d9eb9bca7047",
   "metadata": {},
   "outputs": [
    {
     "data": {
      "text/plain": [
       "600"
      ]
     },
     "execution_count": null,
     "metadata": {},
     "output_type": "execute_result"
    }
   ],
   "source": [
    "# Do your comps parallely\n",
    "past_year_demand = 20\n",
    "current_price = 30\n",
    "past_year_demand * current_price"
   ]
  },
  {
   "cell_type": "code",
   "execution_count": null,
   "id": "9e30c579-cdbd-445c-915a-d0486cc71ff0",
   "metadata": {},
   "outputs": [
    {
     "data": {
      "text/plain": [
       "False"
      ]
     },
     "execution_count": null,
     "metadata": {},
     "output_type": "execute_result"
    }
   ],
   "source": [
    "t_sales.is_alive()"
   ]
  }
 ],
 "metadata": {
  "kernelspec": {
   "display_name": "Python 3 (ipykernel)",
   "language": "python",
   "name": "python3"
  }
 },
 "nbformat": 4,
 "nbformat_minor": 5
}
